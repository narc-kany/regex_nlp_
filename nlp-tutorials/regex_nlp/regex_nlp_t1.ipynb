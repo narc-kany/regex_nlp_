{
 "cells": [
  {
   "cell_type": "code",
   "execution_count": 1,
   "id": "dbc7115d",
   "metadata": {},
   "outputs": [],
   "source": [
    "import re"
   ]
  },
  {
   "cell_type": "code",
   "execution_count": 9,
   "id": "5647700d",
   "metadata": {},
   "outputs": [],
   "source": [
    "chat1 = 'codebasics: you ask lot of a questions :) 1234566787,  abc@xys.com, 9232566787'\n",
    "chat2 = 'codebasics: here it is (123)-456-7890, abx@ysx.com, 1234566787'\n",
    "chat3 = 'codebasics: yes, phone number is : 1234455678 email will be: eed@ggd.com'"
   ]
  },
  {
   "cell_type": "code",
   "execution_count": 11,
   "id": "57e1b550",
   "metadata": {},
   "outputs": [
    {
     "data": {
      "text/plain": [
       "['(123)-456-7890', '1234566787']"
      ]
     },
     "execution_count": 11,
     "metadata": {},
     "output_type": "execute_result"
    }
   ],
   "source": [
    "pattern = '\\d{10}|\\(\\d{3}\\)-\\d{3}-\\d{4}'\n",
    "matches = re.findall(pattern, chat2)\n",
    "matches"
   ]
  },
  {
   "cell_type": "code",
   "execution_count": 14,
   "id": "b09c4563",
   "metadata": {},
   "outputs": [
    {
     "data": {
      "text/plain": [
       "['eed@ggd.com']"
      ]
     },
     "execution_count": 14,
     "metadata": {},
     "output_type": "execute_result"
    }
   ],
   "source": [
    "pattern = '[a-z0-9A-Z_]*@[a-z0-9A-Z]*\\.com'\n",
    "matches = re.findall(pattern, chat3)\n",
    "matches"
   ]
  },
  {
   "cell_type": "code",
   "execution_count": 17,
   "id": "c77fe2a2",
   "metadata": {},
   "outputs": [],
   "source": [
    "chat4 = 'codebasics: Hello I am having issue with my order #2232134590'\n",
    "chat5 = 'codebasics: This is my order number yo 2232134590'\n",
    "chat6 = 'codebasics: My order number is 2232134590 and its having some serious issue, it chaged me $66 dollar when the product was $50'"
   ]
  },
  {
   "cell_type": "code",
   "execution_count": 20,
   "id": "c212b6ae",
   "metadata": {},
   "outputs": [
    {
     "data": {
      "text/plain": [
       "['2232134590']"
      ]
     },
     "execution_count": 20,
     "metadata": {},
     "output_type": "execute_result"
    }
   ],
   "source": [
    "pattern2 = 'order[^\\d]*(\\d*)'\n",
    "order = re.findall(pattern2, chat6)\n",
    "order"
   ]
  },
  {
   "cell_type": "code",
   "execution_count": null,
   "id": "45f350a6",
   "metadata": {},
   "outputs": [],
   "source": []
  }
 ],
 "metadata": {
  "kernelspec": {
   "display_name": "Python 3 (ipykernel)",
   "language": "python",
   "name": "python3"
  },
  "language_info": {
   "codemirror_mode": {
    "name": "ipython",
    "version": 3
   },
   "file_extension": ".py",
   "mimetype": "text/x-python",
   "name": "python",
   "nbconvert_exporter": "python",
   "pygments_lexer": "ipython3",
   "version": "3.10.2"
  }
 },
 "nbformat": 4,
 "nbformat_minor": 5
}
