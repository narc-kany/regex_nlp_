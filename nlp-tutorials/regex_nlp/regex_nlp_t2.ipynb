{
 "cells": [
  {
   "cell_type": "code",
   "execution_count": 1,
   "id": "9e173711",
   "metadata": {},
   "outputs": [],
   "source": [
    "import re"
   ]
  },
  {
   "cell_type": "code",
   "execution_count": 13,
   "id": "c05cacd0",
   "metadata": {},
   "outputs": [],
   "source": [
    "wiki = '''\n",
    "Elon Reeve Musk FRS \n",
    "(age 51)\n",
    "(born June 28, 1971) (Tuesday.\n",
    "is a South African-Canadian-American businessman. \n",
    "He was born in South Africa. He moved to Canada and later became an American citizen. \n",
    "He is known as the   Iron Man of America\n",
    "Musk is the current CEO & Chief Product Architect of Tesla, Inc., \n",
    "a company that makes electric vehicles. He is also the CEO of Solar City, \n",
    "a company that makes solar panels, and the CEO & CTO of SpaceX, an aerospace company. \n",
    "In August 2020, Bloomberg ranked Musk third among the richest people on the planet with \n",
    "a net worth to be $198 billion.\n",
    "'''\n"
   ]
  },
  {
   "cell_type": "code",
   "execution_count": 5,
   "id": "4d1d1d51",
   "metadata": {},
   "outputs": [
    {
     "data": {
      "text/plain": [
       "['51']"
      ]
     },
     "execution_count": 5,
     "metadata": {},
     "output_type": "execute_result"
    }
   ],
   "source": [
    "pattern = 'age (\\d+)'\n",
    "\n",
    "matches = re.findall(pattern, wiki)\n",
    "matches"
   ]
  },
  {
   "cell_type": "code",
   "execution_count": 9,
   "id": "8e0a3532",
   "metadata": {},
   "outputs": [
    {
     "data": {
      "text/plain": [
       "'Iron Man of America'"
      ]
     },
     "execution_count": 9,
     "metadata": {},
     "output_type": "execute_result"
    }
   ],
   "source": [
    "pattern2 = 'known as the(.*)\\n'\n",
    "\n",
    "matches = re.findall(pattern2, wiki)\n",
    "matches[0].strip()"
   ]
  },
  {
   "cell_type": "code",
   "execution_count": 11,
   "id": "069dee21",
   "metadata": {},
   "outputs": [
    {
     "data": {
      "text/plain": [
       "'June 28, 1971'"
      ]
     },
     "execution_count": 11,
     "metadata": {},
     "output_type": "execute_result"
    }
   ],
   "source": [
    "pattern3 = '\\(born(.*)\\) \\(Tuesday'\n",
    "\n",
    "matches = re.findall(pattern3, wiki)\n",
    "matches[0].strip()"
   ]
  },
  {
   "cell_type": "code",
   "execution_count": 14,
   "id": "ed4b12c3",
   "metadata": {},
   "outputs": [
    {
     "data": {
      "text/plain": [
       "'South Africa'"
      ]
     },
     "execution_count": 14,
     "metadata": {},
     "output_type": "execute_result"
    }
   ],
   "source": [
    "pattern4 = 'born in (.*)\\. He moved'\n",
    "\n",
    "matches = re.findall(pattern4, wiki)\n",
    "matches[0].strip()"
   ]
  },
  {
   "cell_type": "code",
   "execution_count": 15,
   "id": "d164c14b",
   "metadata": {},
   "outputs": [],
   "source": [
    "# a python function can help here\n",
    "\n",
    "def get_pattern_match(pattern, text):\n",
    "    matches = re.findall(pattern, text)\n",
    "    if matches:\n",
    "        return matches[0]\n",
    "    else:\n",
    "        return \"not match\""
   ]
  },
  {
   "cell_type": "code",
   "execution_count": 16,
   "id": "ab8026fa",
   "metadata": {},
   "outputs": [
    {
     "data": {
      "text/plain": [
       "' June 28, 1971'"
      ]
     },
     "execution_count": 16,
     "metadata": {},
     "output_type": "execute_result"
    }
   ],
   "source": [
    "get_pattern_match(pattern3, wiki)"
   ]
  },
  {
   "cell_type": "code",
   "execution_count": 18,
   "id": "81353236",
   "metadata": {},
   "outputs": [],
   "source": [
    "def personal_information(text):\n",
    "    age = get_pattern_match('age (\\d+)' , wiki)\n",
    "    title = get_pattern_match('known as the(.*)\\n' , wiki)\n",
    "    birth_date = get_pattern_match('\\(born(.*)\\) \\(Tuesday' , wiki)\n",
    "    birth_place = get_pattern_match('born in (.*)\\. He moved' , wiki)\n",
    "    \n",
    "    return {\n",
    "        'age' : int(age),\n",
    "        'title' : title.strip(),\n",
    "        'birth_date' : birth_date.strip(),\n",
    "        'birth_place' : birth_place.strip()\n",
    "    }"
   ]
  },
  {
   "cell_type": "code",
   "execution_count": null,
   "id": "146e7e43",
   "metadata": {},
   "outputs": [],
   "source": [
    "get_"
   ]
  }
 ],
 "metadata": {
  "kernelspec": {
   "display_name": "Python 3 (ipykernel)",
   "language": "python",
   "name": "python3"
  },
  "language_info": {
   "codemirror_mode": {
    "name": "ipython",
    "version": 3
   },
   "file_extension": ".py",
   "mimetype": "text/x-python",
   "name": "python",
   "nbconvert_exporter": "python",
   "pygments_lexer": "ipython3",
   "version": "3.10.2"
  }
 },
 "nbformat": 4,
 "nbformat_minor": 5
}
